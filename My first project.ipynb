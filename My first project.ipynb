{
  "cells": [
    {
      "cell_type": "markdown",
      "metadata": {
        "id": "view-in-github",
        "colab_type": "text"
      },
      "source": [
        "<a href=\"https://colab.research.google.com/github/Jabaananth/NASA-NEAR_EARTH-OBJECT-NEO-/blob/main/My%20first%20project.ipynb\" target=\"_parent\"><img src=\"https://colab.research.google.com/assets/colab-badge.svg\" alt=\"Open In Colab\"/></a>"
      ]
    },
    {
      "cell_type": "code",
      "execution_count": null,
      "id": "e835c6ea-6ea4-4ce0-9b77-5bbb03ca7ed0",
      "metadata": {
        "id": "e835c6ea-6ea4-4ce0-9b77-5bbb03ca7ed0"
      },
      "outputs": [],
      "source": [
        "import requests"
      ]
    },
    {
      "cell_type": "code",
      "execution_count": null,
      "id": "9983c836-077d-4c50-ae2e-6f87df7e4d3a",
      "metadata": {
        "id": "9983c836-077d-4c50-ae2e-6f87df7e4d3a"
      },
      "outputs": [],
      "source": [
        "API_KEY=\"QOgcWi2XIvXqRpGmcDgdQaPCNqttAUb6d3aSek9n\"\n",
        "url=f\"https://api.nasa.gov/neo/rest/v1/feed?start_date=2024-01-01&end_date=2024-01-07&api_key={API_KEY}\"\n",
        "response=requests.get(url)"
      ]
    },
    {
      "cell_type": "code",
      "execution_count": null,
      "id": "d8a8ebc1-2c4b-4d33-ba41-06e4afa9188c",
      "metadata": {
        "id": "d8a8ebc1-2c4b-4d33-ba41-06e4afa9188c"
      },
      "outputs": [],
      "source": [
        "data = response.json()"
      ]
    },
    {
      "cell_type": "code",
      "execution_count": null,
      "id": "a14287d5-ebf6-4eb6-ba53-b97553757de7",
      "metadata": {
        "id": "a14287d5-ebf6-4eb6-ba53-b97553757de7"
      },
      "outputs": [],
      "source": [
        "data"
      ]
    },
    {
      "cell_type": "code",
      "execution_count": null,
      "id": "2dbc1235-e601-431b-b658-25f4822fcd04",
      "metadata": {
        "id": "2dbc1235-e601-431b-b658-25f4822fcd04"
      },
      "outputs": [],
      "source": [
        "data.keys()"
      ]
    },
    {
      "cell_type": "code",
      "execution_count": null,
      "id": "5448713c-e279-409a-8c4a-f6f820124f66",
      "metadata": {
        "id": "5448713c-e279-409a-8c4a-f6f820124f66"
      },
      "outputs": [],
      "source": [
        "data['near_earth_objects'].keys()"
      ]
    },
    {
      "cell_type": "code",
      "execution_count": null,
      "id": "ab0d7c9b-c650-4a61-9a42-02318184352d",
      "metadata": {
        "id": "ab0d7c9b-c650-4a61-9a42-02318184352d"
      },
      "outputs": [],
      "source": [
        "data['links']['next']"
      ]
    },
    {
      "cell_type": "code",
      "execution_count": null,
      "id": "585042c0-bb77-4356-8e09-f7f6683aaf96",
      "metadata": {
        "id": "585042c0-bb77-4356-8e09-f7f6683aaf96"
      },
      "outputs": [],
      "source": [
        "data['near_earth_objects'].keys()"
      ]
    },
    {
      "cell_type": "code",
      "execution_count": null,
      "id": "faf58597-8f46-477b-9c4f-9f742f9a9574",
      "metadata": {
        "scrolled": true,
        "id": "faf58597-8f46-477b-9c4f-9f742f9a9574"
      },
      "outputs": [],
      "source": [
        "data['near_earth_objects']['2024-01-01']"
      ]
    },
    {
      "cell_type": "code",
      "execution_count": null,
      "id": "ed782c18-a2a3-4587-a0ac-03d4254ad4c6",
      "metadata": {
        "id": "ed782c18-a2a3-4587-a0ac-03d4254ad4c6"
      },
      "outputs": [],
      "source": [
        "len(data['near_earth_objects']['2024-01-02'])"
      ]
    },
    {
      "cell_type": "code",
      "execution_count": null,
      "id": "61140c15-a13e-4319-b436-4959a4c8c7fd",
      "metadata": {
        "id": "61140c15-a13e-4319-b436-4959a4c8c7fd"
      },
      "outputs": [],
      "source": [
        "details = data['near_earth_objects']"
      ]
    },
    {
      "cell_type": "code",
      "execution_count": null,
      "id": "239c5ee6-ba3e-433a-8b17-ede9672dbc63",
      "metadata": {
        "scrolled": true,
        "id": "239c5ee6-ba3e-433a-8b17-ede9672dbc63"
      },
      "outputs": [],
      "source": [
        "details"
      ]
    },
    {
      "cell_type": "code",
      "execution_count": null,
      "id": "df80fe56-2214-4785-9b82-dbf85b52dcf1",
      "metadata": {
        "id": "df80fe56-2214-4785-9b82-dbf85b52dcf1"
      },
      "outputs": [],
      "source": [
        "details['2024-01-01'][0]['name']"
      ]
    },
    {
      "cell_type": "code",
      "execution_count": null,
      "id": "b3c3adf2-c92e-4532-b61a-0bd7da8cdb96",
      "metadata": {
        "id": "b3c3adf2-c92e-4532-b61a-0bd7da8cdb96"
      },
      "outputs": [],
      "source": [
        "type(details['2024-01-01'][0]['absolute_magnitude_h'])"
      ]
    },
    {
      "cell_type": "code",
      "execution_count": null,
      "id": "214566e3-f854-4bb6-b9fa-0e392560ed8a",
      "metadata": {
        "id": "214566e3-f854-4bb6-b9fa-0e392560ed8a"
      },
      "outputs": [],
      "source": [
        "asteroids_data = []\n",
        "target = 10000\n",
        "url = f\"https://api.nasa.gov/neo/rest/v1/feed?start_date=2024-01-01&end_date=2024-01-08&api_key={API_KEY}\"\n",
        "\n",
        "while len(asteroids_data) < target:\n",
        "    response = requests.get(url)\n",
        "    data = response.json()\n",
        "    details = data['near_earth_objects']\n",
        "    for date,info in details.items():\n",
        "      for i in info:\n",
        "        asteroids_data.append(dict(id = i['id'],\n",
        "        name = i['name'],\n",
        "        mag= float(i['absolute_magnitude_h']),\n",
        "        dia_min=float(i['estimated_diameter']['kilometers']['estimated_diameter_min']),\n",
        "        dia_max=float (i['estimated_diameter']['kilometers']['estimated_diameter_max']),\n",
        "        hazardous=bool(i['is_potentially_hazardous_asteroid']),\n",
        "        date=(i['close_approach_data'][0]['close_approach_date']),\n",
        "        velocity=float(i['close_approach_data'][0]['relative_velocity']['kilometers_per_hour']),\n",
        "        atml=float(i['close_approach_data'][0]['miss_distance']['astronomical']),\n",
        "        miss_dis=float(i['close_approach_data'][0]['miss_distance']['kilometers']),\n",
        "        lunar= float(i['close_approach_data'][0]['miss_distance']['lunar']),\n",
        "        orbiting_body=(i['close_approach_data'][0]['orbiting_body']),\n",
        "                             ))\n",
        "\n",
        "        if len(asteroids_data) >= target:\n",
        "            break\n",
        "      if len(asteroids_data) >= target:\n",
        "          break\n",
        "\n",
        "url = data['links']['next']"
      ]
    },
    {
      "cell_type": "code",
      "execution_count": null,
      "id": "d14c4750-91a3-4e44-bc43-85c4cd252f64",
      "metadata": {
        "id": "d14c4750-91a3-4e44-bc43-85c4cd252f64"
      },
      "outputs": [],
      "source": [
        "asteroids_data\n"
      ]
    },
    {
      "cell_type": "code",
      "execution_count": null,
      "id": "d6598db1-e73e-4a48-b3dd-da301da6ce74",
      "metadata": {
        "id": "d6598db1-e73e-4a48-b3dd-da301da6ce74"
      },
      "outputs": [],
      "source": [
        "len(asteroids_data)"
      ]
    },
    {
      "cell_type": "code",
      "execution_count": null,
      "id": "70876f1b-bc3a-4f5f-9a2b-49ac440ef7bd",
      "metadata": {
        "id": "70876f1b-bc3a-4f5f-9a2b-49ac440ef7bd"
      },
      "outputs": [],
      "source": [
        "type(asteroids_data)"
      ]
    },
    {
      "cell_type": "code",
      "execution_count": null,
      "id": "42e97adf-0edf-4aa2-9bdb-abc325e12477",
      "metadata": {
        "id": "42e97adf-0edf-4aa2-9bdb-abc325e12477"
      },
      "outputs": [],
      "source": [
        "import pandas as pd"
      ]
    },
    {
      "cell_type": "code",
      "execution_count": null,
      "id": "8e6ab44b-f204-4ad5-ba3d-aec1c4736c5f",
      "metadata": {
        "id": "8e6ab44b-f204-4ad5-ba3d-aec1c4736c5f"
      },
      "outputs": [],
      "source": [
        "df=pd.DataFrame(asteroids_data)\n",
        "print(df.to_string(index=False))"
      ]
    },
    {
      "cell_type": "code",
      "execution_count": null,
      "id": "d605deca-b6ee-4e6d-8428-143c10cd6834",
      "metadata": {
        "scrolled": true,
        "id": "d605deca-b6ee-4e6d-8428-143c10cd6834"
      },
      "outputs": [],
      "source": [
        "asteroids_data"
      ]
    },
    {
      "cell_type": "code",
      "execution_count": null,
      "id": "1bc4c14e-f2b2-4f91-acb2-b8e9347f555a",
      "metadata": {
        "id": "1bc4c14e-f2b2-4f91-acb2-b8e9347f555a"
      },
      "outputs": [],
      "source": [
        "df=df[['id','name','mag','dia_min','dia_max','hazardous']]"
      ]
    },
    {
      "cell_type": "code",
      "execution_count": null,
      "id": "30b84168-a6d5-412a-b4cf-3fec2f089123",
      "metadata": {
        "id": "30b84168-a6d5-412a-b4cf-3fec2f089123"
      },
      "outputs": [],
      "source": [
        "df.keys()"
      ]
    },
    {
      "cell_type": "code",
      "execution_count": null,
      "id": "1f12bbd5-ed0f-4232-b80f-73f27497e89c",
      "metadata": {
        "id": "1f12bbd5-ed0f-4232-b80f-73f27497e89c"
      },
      "outputs": [],
      "source": [
        "pip install mysql-connector-python"
      ]
    },
    {
      "cell_type": "code",
      "execution_count": null,
      "id": "1d9056a3-913c-49c1-89a3-9212f0413182",
      "metadata": {
        "id": "1d9056a3-913c-49c1-89a3-9212f0413182"
      },
      "outputs": [],
      "source": [
        "import mysql.connector as db\n",
        "import pandas as pd"
      ]
    },
    {
      "cell_type": "code",
      "execution_count": null,
      "id": "e35c87f6-a40f-490d-9311-374a24b6aa74",
      "metadata": {
        "id": "e35c87f6-a40f-490d-9311-374a24b6aa74"
      },
      "outputs": [],
      "source": [
        "connection=db.connect(\n",
        "            host=\"localhost\",\n",
        "            user=\"NASA PROJECT\",\n",
        "            password='Nasa@123',\n",
        "            database='nasa_project'\n",
        "\n",
        ")"
      ]
    },
    {
      "cell_type": "code",
      "execution_count": null,
      "id": "c31402b8-e341-4bc6-acb4-a5e6b4ed3e20",
      "metadata": {
        "id": "c31402b8-e341-4bc6-acb4-a5e6b4ed3e20"
      },
      "outputs": [],
      "source": [
        "connection"
      ]
    },
    {
      "cell_type": "code",
      "execution_count": null,
      "id": "78a1a957-8fed-4718-998a-b6b6e008d5ef",
      "metadata": {
        "id": "78a1a957-8fed-4718-998a-b6b6e008d5ef"
      },
      "outputs": [],
      "source": [
        "curr=connection.cursor()"
      ]
    },
    {
      "cell_type": "markdown",
      "id": "36996a45-63c5-486b-864a-724424731f70",
      "metadata": {
        "id": "36996a45-63c5-486b-864a-724424731f70"
      },
      "source": [
        "# table 1"
      ]
    },
    {
      "cell_type": "code",
      "execution_count": null,
      "id": "f5e87a8f-c11e-43ae-a597-99a303a4149e",
      "metadata": {
        "id": "f5e87a8f-c11e-43ae-a597-99a303a4149e"
      },
      "outputs": [],
      "source": [
        "curr.execute(\"\"\"\n",
        "create table ASTEROIDS(\n",
        "ID INT,NAME VARCHAR(50),MAGNITUDE FLOAT,DIAMETER_MIN FLOAT,DIAMETER_MAX FLOAT,HAZARDOUS BOOLEAN);\n",
        "\"\"\")\n"
      ]
    },
    {
      "cell_type": "code",
      "execution_count": null,
      "id": "91eac9ad-5c07-4995-baf1-454190e4e49c",
      "metadata": {
        "id": "91eac9ad-5c07-4995-baf1-454190e4e49c"
      },
      "outputs": [],
      "source": [
        "insert=\"\"\"\n",
        "insert into ASTEROIDS(ID, NAME, MAGNITUDE, DIAMETER_MIN, DIAMETER_MAX, HAZARDOUS)values (%s,%s,%s,%s,%s,%s)\n",
        "\n",
        "\"\"\"\n",
        "for i in asteroids_data:\n",
        "    values=(i['id']), (i['name']), (i['mag']), (i['dia_min']),(i['dia_max']), (i['hazardous'])\n",
        "    curr.execute(insert,values)\n",
        "    connection.commit();"
      ]
    },
    {
      "cell_type": "code",
      "execution_count": null,
      "id": "2cf559df-a306-4faa-9a64-c9846aa63f35",
      "metadata": {
        "id": "2cf559df-a306-4faa-9a64-c9846aa63f35"
      },
      "outputs": [],
      "source": [
        "values"
      ]
    },
    {
      "cell_type": "code",
      "execution_count": null,
      "id": "767e1093-5bea-42e3-9c51-32146822af04",
      "metadata": {
        "id": "767e1093-5bea-42e3-9c51-32146822af04"
      },
      "outputs": [],
      "source": []
    },
    {
      "cell_type": "markdown",
      "id": "3d0b3484-0a61-4056-861a-52d1d319ebae",
      "metadata": {
        "id": "3d0b3484-0a61-4056-861a-52d1d319ebae"
      },
      "source": [
        "# table 2"
      ]
    },
    {
      "cell_type": "code",
      "execution_count": null,
      "id": "e13c5aba-b3db-4b4a-8234-2426a54e5fcf",
      "metadata": {
        "id": "e13c5aba-b3db-4b4a-8234-2426a54e5fcf"
      },
      "outputs": [],
      "source": [
        "curr.execute(\"\"\"\n",
        "create table close_approach(\n",
        "ID INT,CL_DATE DATE,VELOCITY FLOAT,ASTRONOMICAL FLOAT,M_DIS_KM FLOAT,M_DIS_LUNAR Float, ORBIT_BODY TEXT);\n",
        "\"\"\")"
      ]
    },
    {
      "cell_type": "code",
      "execution_count": null,
      "id": "8a578724-889b-4d41-9e02-bf57c57460ae",
      "metadata": {
        "id": "8a578724-889b-4d41-9e02-bf57c57460ae"
      },
      "outputs": [],
      "source": [
        "insert1=\"\"\"\n",
        "insert into close_approach(ID,CL_DATE,VELOCITY,ASTRONOMICAL,M_DIS_KM,M_DIS_LUNAR, ORBIT_BODY)values (%s,%s,%s,%s,%s,%s,%s)\n",
        "\n",
        "\"\"\"\n",
        "for i in asteroids_data:\n",
        "    values=(i['id']),(i[\"date\"]),(i[\"velocity\"]), (i[\"atml\"]),(i[\"miss_dis\"]),(i[\"lunar\"]),(i[\"orbiting_body\"])\n",
        "    curr.execute(insert1,values)\n",
        "    connection.commit();"
      ]
    },
    {
      "cell_type": "code",
      "execution_count": null,
      "id": "557677fb-c1b9-4149-b783-2d1bb0f93ca3",
      "metadata": {
        "id": "557677fb-c1b9-4149-b783-2d1bb0f93ca3"
      },
      "outputs": [],
      "source": []
    },
    {
      "cell_type": "code",
      "execution_count": null,
      "id": "7a8ad61c-909f-49a8-a294-09469e9b15c5",
      "metadata": {
        "id": "7a8ad61c-909f-49a8-a294-09469e9b15c5"
      },
      "outputs": [],
      "source": [
        "pip install streamlit"
      ]
    },
    {
      "cell_type": "code",
      "execution_count": null,
      "id": "02ad3355-a6cf-4cfd-aeff-6cdbf2051f49",
      "metadata": {
        "id": "02ad3355-a6cf-4cfd-aeff-6cdbf2051f49"
      },
      "outputs": [],
      "source": [
        "import streamlit as st"
      ]
    },
    {
      "cell_type": "code",
      "execution_count": null,
      "id": "49557e70-8339-4594-81e2-8296b4adf727",
      "metadata": {
        "id": "49557e70-8339-4594-81e2-8296b4adf727"
      },
      "outputs": [],
      "source": [
        "st.header(\"i my first project\")"
      ]
    },
    {
      "cell_type": "code",
      "execution_count": null,
      "id": "ff8dead6-19c8-4418-8097-2065e694206e",
      "metadata": {
        "id": "ff8dead6-19c8-4418-8097-2065e694206e"
      },
      "outputs": [],
      "source": [
        "st.write(\"hello, this is my project 1\")"
      ]
    },
    {
      "cell_type": "code",
      "execution_count": null,
      "id": "881cdc4a-7dbb-41e8-8a04-4915fb13e526",
      "metadata": {
        "id": "881cdc4a-7dbb-41e8-8a04-4915fb13e526"
      },
      "outputs": [],
      "source": []
    },
    {
      "cell_type": "code",
      "execution_count": null,
      "id": "90612d00-b58e-4906-9dbb-8c636ebdbc7b",
      "metadata": {
        "id": "90612d00-b58e-4906-9dbb-8c636ebdbc7b"
      },
      "outputs": [],
      "source": [
        "    curr.execute(\"\"\"\n",
        "        SELECT ID,NAME, COUNT(*) AS approach_count\n",
        "        FROM NASA_PROJECT.asteroids\n",
        "        GROUP BY ID,NAME\n",
        "        ORDER BY approach_count DESC;\n",
        "    \"\"\")\n",
        "    data = curr.fetchall()\n",
        "    df = pd.DataFrame(data, columns=[\"ID\", \"NAME\"])\n",
        "    st.dataframe(df)"
      ]
    },
    {
      "cell_type": "code",
      "execution_count": null,
      "id": "1434a2d1-4489-41f0-82ce-67350e0e1ae8",
      "metadata": {
        "id": "1434a2d1-4489-41f0-82ce-67350e0e1ae8"
      },
      "outputs": [],
      "source": []
    }
  ],
  "metadata": {
    "kernelspec": {
      "display_name": "Python 3 (ipykernel)",
      "language": "python",
      "name": "python3"
    },
    "language_info": {
      "codemirror_mode": {
        "name": "ipython",
        "version": 3
      },
      "file_extension": ".py",
      "mimetype": "text/x-python",
      "name": "python",
      "nbconvert_exporter": "python",
      "pygments_lexer": "ipython3",
      "version": "3.12.7"
    },
    "colab": {
      "provenance": [],
      "include_colab_link": true
    }
  },
  "nbformat": 4,
  "nbformat_minor": 5
}